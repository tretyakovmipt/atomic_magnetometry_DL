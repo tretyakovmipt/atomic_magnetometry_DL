{
 "cells": [
  {
   "cell_type": "markdown",
   "source": [
    "Here I train a model on synthetic data without noise generated with an assumption that there is no cavity linewidth effect on the microwave transitions. I will try a fully-connected neural network (FCNN) and a convolutional neural network (CNN)."
   ],
   "metadata": {
    "collapsed": false,
    "pycharm": {
     "name": "#%% md\n"
    }
   }
  },
  {
   "cell_type": "markdown",
   "source": [
    "Import libraries"
   ],
   "metadata": {
    "collapsed": false,
    "pycharm": {
     "name": "#%% md\n"
    }
   }
  },
  {
   "cell_type": "code",
   "execution_count": 2,
   "metadata": {
    "collapsed": true,
    "pycharm": {
     "name": "#%%\n"
    }
   },
   "outputs": [],
   "source": [
    "from tensorflow import keras\n",
    "import numpy as np\n",
    "import matplotlib.pyplot as plt\n",
    "import tensorflow as tf\n",
    "import datetime\n",
    "import pandas as pd"
   ]
  },
  {
   "cell_type": "markdown",
   "source": [
    "Load datasets. X is the DR signal vs microwave frequency. Y corresponds to the parallel and normal components of the DC field. Y-data is already normalized. I don't inc"
   ],
   "metadata": {
    "collapsed": false,
    "pycharm": {
     "name": "#%% md\n"
    }
   }
  },
  {
   "cell_type": "code",
   "execution_count": 6,
   "outputs": [],
   "source": [
    "X_train = np.load(\"..\\Data\\X_train1.npy\")\n",
    "Y_train = np.load('..\\Data\\Y_train1.npy')\n",
    "\n",
    "X_test = np.load('..\\Data\\X_val1.npy')\n",
    "Y_test = np.load('..\\Data\\Y_val1.npy')"
   ],
   "metadata": {
    "collapsed": false,
    "pycharm": {
     "name": "#%%\n"
    }
   }
  },
  {
   "cell_type": "markdown",
   "source": [
    "Normalize data, so the DR signal is between zero and one."
   ],
   "metadata": {
    "collapsed": false,
    "pycharm": {
     "name": "#%% md\n"
    }
   }
  },
  {
   "cell_type": "code",
   "execution_count": 7,
   "outputs": [],
   "source": [
    "Level = np.min(X_train)\n",
    "Height = np.max(X_train)-np.min(X_train)\n",
    "\n",
    "X_train = (X_train-Level)/Height\n",
    "X_test = (X_test-Level)/Height"
   ],
   "metadata": {
    "collapsed": false,
    "pycharm": {
     "name": "#%%\n"
    }
   }
  },
  {
   "cell_type": "code",
   "execution_count": 8,
   "outputs": [
    {
     "data": {
      "text/plain": "array([[1.        , 0.99999845, 0.99999686, ..., 0.99999686, 0.99999845,\n        1.        ],\n       [0.99999994, 0.99999839, 0.99999681, ..., 0.99999681, 0.99999839,\n        0.99999994],\n       [0.99999978, 0.99999822, 0.99999663, ..., 0.99999663, 0.99999822,\n        0.99999978],\n       ...,\n       [0.99946675, 0.99943539, 0.99940158, ..., 0.99940158, 0.99943539,\n        0.99946675],\n       [0.99979513, 0.99978365, 0.99977142, ..., 0.99977142, 0.99978365,\n        0.99979513],\n       [0.99948509, 0.99945484, 0.99942223, ..., 0.99942223, 0.99945484,\n        0.99948509]])"
     },
     "execution_count": 8,
     "metadata": {},
     "output_type": "execute_result"
    }
   ],
   "source": [
    "X_test"
   ],
   "metadata": {
    "collapsed": false,
    "pycharm": {
     "name": "#%%\n"
    }
   }
  },
  {
   "cell_type": "markdown",
   "source": [
    "Plot normalized data"
   ],
   "metadata": {
    "collapsed": false,
    "pycharm": {
     "name": "#%% md\n"
    }
   }
  },
  {
   "cell_type": "code",
   "execution_count": 14,
   "outputs": [
    {
     "data": {
      "text/plain": "Text(0, 0.5, 'DR signal')"
     },
     "execution_count": 14,
     "metadata": {},
     "output_type": "execute_result"
    },
    {
     "data": {
      "text/plain": "<Figure size 432x288 with 1 Axes>",
      "image/png": "[encoded data removed]"
     },
     "metadata": {
      "needs_background": "light"
     },
     "output_type": "display_data"
    }
   ],
   "source": [
    "fig, ax = plt.subplots()\n",
    "ax.plot(np.linspace(-4,4,320), X_train[50])\n",
    "ax.set_xlabel(r'$\\Delta_{\\mu}/\\omega_{L}$', fontsize=12)\n",
    "ax.set_ylabel('DR signal', fontsize=12)"
   ],
   "metadata": {
    "collapsed": false,
    "pycharm": {
     "name": "#%%\n"
    }
   }
  },
  {
   "cell_type": "code",
   "execution_count": null,
   "outputs": [],
   "source": [],
   "metadata": {
    "collapsed": false,
    "pycharm": {
     "name": "#%%\n"
    }
   }
  }
 ],
 "metadata": {
  "kernelspec": {
   "display_name": "Python 3",
   "language": "python",
   "name": "python3"
  },
  "language_info": {
   "codemirror_mode": {
    "name": "ipython",
    "version": 2
   },
   "file_extension": ".py",
   "mimetype": "text/x-python",
   "name": "python",
   "nbconvert_exporter": "python",
   "pygments_lexer": "ipython2",
   "version": "2.7.6"
  }
 },
 "nbformat": 4,
 "nbformat_minor": 0
}