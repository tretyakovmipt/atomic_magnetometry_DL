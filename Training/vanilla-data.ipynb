{
 "cells": [
  {
   "cell_type": "markdown",
   "source": [
    "Here I train a model on synthetic data without noise generated with an assumption that there is no cavity linewidth effect on the microwave transitions. I will try a fully-connected neural network (FCNN) and a convolutional neural network (CNN)."
   ],
   "metadata": {
    "collapsed": false,
    "pycharm": {
     "name": "#%% md\n"
    }
   }
  },
  {
   "cell_type": "markdown",
   "source": [
    "Import libraries"
   ],
   "metadata": {
    "collapsed": false,
    "pycharm": {
     "name": "#%% md\n"
    }
   }
  },
  {
   "cell_type": "code",
   "execution_count": 1,
   "metadata": {
    "collapsed": true,
    "pycharm": {
     "name": "#%%\n"
    }
   },
   "outputs": [],
   "source": [
    "from tensorflow import keras\n",
    "import numpy as np\n",
    "import matplotlib.pyplot as plt\n",
    "import pandas as pd"
   ]
  },
  {
   "cell_type": "markdown",
   "source": [
    "Load datasets. X is the DR signal vs microwave frequency. Y corresponds to the parallel and normal components of the DC field. Y-data is already normalized."
   ],
   "metadata": {
    "collapsed": false,
    "pycharm": {
     "name": "#%% md\n"
    }
   }
  },
  {
   "cell_type": "code",
   "execution_count": 2,
   "outputs": [],
   "source": [
    "X_train = np.load(\"..\\Data\\X_train1.npy\")\n",
    "Y_train = np.load('..\\Data\\Y_train1.npy')\n",
    "\n",
    "X_test = np.load('..\\Data\\X_val1.npy')\n",
    "Y_test = np.load('..\\Data\\Y_val1.npy')"
   ],
   "metadata": {
    "collapsed": false,
    "pycharm": {
     "name": "#%%\n"
    }
   }
  },
  {
   "cell_type": "markdown",
   "source": [
    "Normalize data, so the DR signal is between zero and one."
   ],
   "metadata": {
    "collapsed": false,
    "pycharm": {
     "name": "#%% md\n"
    }
   }
  },
  {
   "cell_type": "code",
   "execution_count": 3,
   "outputs": [],
   "source": [
    "Level = np.min(X_train)\n",
    "Height = np.max(X_train)-np.min(X_train)\n",
    "\n",
    "X_train = (X_train-Level)/Height\n",
    "X_test = (X_test-Level)/Height"
   ],
   "metadata": {
    "collapsed": false,
    "pycharm": {
     "name": "#%%\n"
    }
   }
  },
  {
   "cell_type": "markdown",
   "source": [
    "Plot normalized data"
   ],
   "metadata": {
    "collapsed": false,
    "pycharm": {
     "name": "#%% md\n"
    }
   }
  },
  {
   "cell_type": "code",
   "execution_count": 4,
   "outputs": [
    {
     "data": {
      "text/plain": "Text(0, 0.5, 'DR signal')"
     },
     "execution_count": 4,
     "metadata": {},
     "output_type": "execute_result"
    },
    {
     "data": {
      "text/plain": "<Figure size 432x288 with 1 Axes>",
      "image/png": "[encoded data removed]"
     },
     "metadata": {
      "needs_background": "light"
     },
     "output_type": "display_data"
    }
   ],
   "source": [
    "fig, ax = plt.subplots()\n",
    "ax.plot(np.linspace(-4,4,320), X_train[50])\n",
    "ax.set_xlabel(r'$\\Delta_{\\mu}/\\omega_{L}$', fontsize=12)\n",
    "ax.set_ylabel('DR signal', fontsize=12)"
   ],
   "metadata": {
    "collapsed": false,
    "pycharm": {
     "name": "#%%\n"
    }
   }
  },
  {
   "cell_type": "markdown",
   "source": [
    "# FCNN"
   ],
   "metadata": {
    "collapsed": false,
    "pycharm": {
     "name": "#%% md\n"
    }
   }
  },
  {
   "cell_type": "markdown",
   "source": [
    "Create model"
   ],
   "metadata": {
    "collapsed": false,
    "pycharm": {
     "name": "#%% md\n"
    }
   }
  },
  {
   "cell_type": "code",
   "execution_count": 5,
   "outputs": [],
   "source": [
    "model_fc = keras.models.Sequential([\n",
    "    keras.layers.Dense(320, activation='relu'),\n",
    "    keras.layers.Dense(256, activation='relu'),\n",
    "    keras.layers.Dense(128, activation='relu'),\n",
    "    keras.layers.Dense(64, activation='relu'),\n",
    "    keras.layers.Dense(32, activation='relu'),\n",
    "    keras.layers.Dense(2)\n",
    "])\n",
    "model_fc.compile(loss=\"mae\", optimizer = keras.optimizers.Adam(), metrics = 'mae')"
   ],
   "metadata": {
    "collapsed": false,
    "pycharm": {
     "name": "#%%\n"
    }
   }
  },
  {
   "cell_type": "markdown",
   "source": [
    "Create callbacks"
   ],
   "metadata": {
    "collapsed": false,
    "pycharm": {
     "name": "#%% md\n"
    }
   }
  },
  {
   "cell_type": "code",
   "execution_count": 6,
   "outputs": [],
   "source": [
    "early_stopping_cb = keras.callbacks.EarlyStopping(patience=500, monitor='val_mae', restore_best_weights=True) #stop if val_mae is not improving\n",
    "learning_rate_cb = keras.callbacks.ReduceLROnPlateau(monitor='val_loss',factor=0.1, patience=100) # Change learning rate is validation loss is not improving\n",
    "\n",
    "cb_list = [early_stopping_cb, learning_rate_cb]"
   ],
   "metadata": {
    "collapsed": false,
    "pycharm": {
     "name": "#%%\n"
    }
   }
  },
  {
   "cell_type": "markdown",
   "source": [
    "Train model"
   ],
   "metadata": {
    "collapsed": false,
    "pycharm": {
     "name": "#%% md\n"
    }
   }
  },
  {
   "cell_type": "code",
   "execution_count": 7,
   "outputs": [],
   "source": [
    "history_fc = model_fc.fit(X_train, Y_train, epochs=2000, validation_data=(X_test, Y_test), batch_size=32, callbacks=cb_list, verbose=False)"
   ],
   "metadata": {
    "collapsed": false,
    "pycharm": {
     "name": "#%%\n"
    }
   }
  },
  {
   "cell_type": "markdown",
   "source": [
    "Plot results"
   ],
   "metadata": {
    "collapsed": false,
    "pycharm": {
     "name": "#%% md\n"
    }
   }
  },
  {
   "cell_type": "code",
   "execution_count": 8,
   "outputs": [
    {
     "name": "stdout",
     "output_type": "stream",
     "text": [
      "7/7 [==============================] - 0s 1ms/step\n",
      "max error: 0.06643573939800262\n",
      "mean absolute error: 0.0022032075928107727\n"
     ]
    },
    {
     "data": {
      "text/plain": "<Figure size 432x288 with 1 Axes>",
      "image/png": "[encoded data removed]"
     },
     "metadata": {
      "needs_background": "light"
     },
     "output_type": "display_data"
    }
   ],
   "source": [
    "h_fc = history_fc.history\n",
    "\n",
    "FC_training_data = pd.DataFrame({\"FC training loss\" : h_fc[\"loss\"], \"FC test_loss\" :  h_fc[\"val_loss\"]})\n",
    "FC_training_data.index.name = 'FC Epoch'\n",
    "\n",
    "fig_fc = FC_training_data.plot()\n",
    "fig_fc.set_xlabel(r'epoch_count',fontsize=12)\n",
    "fig_fc.set_ylabel(r'Loss',fontsize=12)\n",
    "fig_fc.set_ylim(0, 0.04)\n",
    "\n",
    "y = model_fc.predict(X_test)\n",
    "print('max error:', np.max(np.abs(y-Y_test)))\n",
    "print('mean absolute error:', np.mean( np.sqrt((y-Y_test)**2 )))"
   ],
   "metadata": {
    "collapsed": false,
    "pycharm": {
     "name": "#%%\n"
    }
   }
  },
  {
   "cell_type": "markdown",
   "source": [
    "# CNN"
   ],
   "metadata": {
    "collapsed": false,
    "pycharm": {
     "name": "#%% md\n"
    }
   }
  },
  {
   "cell_type": "markdown",
   "source": [
    "Create model"
   ],
   "metadata": {
    "collapsed": false,
    "pycharm": {
     "name": "#%% md\n"
    }
   }
  },
  {
   "cell_type": "code",
   "execution_count": 9,
   "outputs": [],
   "source": [
    "model_cnn = keras.models.Sequential([\n",
    "    keras.layers.Conv1D(kernel_size=16, activation='relu',padding='SAME',filters=32),\n",
    "    keras.layers.MaxPooling1D(pool_size=2),\n",
    "    keras.layers.Conv1D(kernel_size=8, activation='relu',padding='SAME',filters=64),\n",
    "    keras.layers.Conv1D(kernel_size=8, activation='relu',padding='SAME',filters=64),\n",
    "    keras.layers.MaxPooling1D(pool_size=2),\n",
    "    keras.layers.Conv1D(kernel_size=4, activation='relu',padding='SAME',filters=128),\n",
    "    keras.layers.Conv1D(kernel_size=4, activation='relu',padding='SAME',filters=128),\n",
    "    keras.layers.Flatten(),\n",
    "    # keras.layers.Dense(200,activation='relu'),\n",
    "    keras.layers.Dense(256,activation='relu'),\n",
    "    keras.layers.Dense(128,activation='relu'),\n",
    "    keras.layers.Dense(64,activation='relu'),\n",
    "    keras.layers.Dense(32,activation='relu'),\n",
    "    keras.layers.Dense(2)\n",
    "])\n",
    "\n",
    "model_cnn.compile(loss=\"mae\", optimizer = keras.optimizers.Adam(),metrics=[\"mae\"])#loss functions are given for two output neurons"
   ],
   "metadata": {
    "collapsed": false,
    "pycharm": {
     "name": "#%%\n"
    }
   }
  },
  {
   "cell_type": "markdown",
   "source": [
    "Reshape data"
   ],
   "metadata": {
    "collapsed": false,
    "pycharm": {
     "name": "#%% md\n"
    }
   }
  },
  {
   "cell_type": "code",
   "execution_count": 10,
   "outputs": [],
   "source": [
    "X_train_cnn = X_train[:,:,np.newaxis]\n",
    "X_test_cnn = X_test[:,:,np.newaxis]"
   ],
   "metadata": {
    "collapsed": false,
    "pycharm": {
     "name": "#%%\n"
    }
   }
  },
  {
   "cell_type": "markdown",
   "source": [
    "Train"
   ],
   "metadata": {
    "collapsed": false,
    "pycharm": {
     "name": "#%% md\n"
    }
   }
  },
  {
   "cell_type": "code",
   "execution_count": 11,
   "outputs": [],
   "source": [
    "history_cnn = model_cnn.fit(X_train_cnn, Y_train, epochs=2000, validation_data=(X_test_cnn, Y_test),batch_size=32,callbacks=cb_list, verbose=False)"
   ],
   "metadata": {
    "collapsed": false,
    "pycharm": {
     "name": "#%%\n"
    }
   }
  },
  {
   "cell_type": "markdown",
   "source": [
    "Plot"
   ],
   "metadata": {
    "collapsed": false,
    "pycharm": {
     "name": "#%% md\n"
    }
   }
  },
  {
   "cell_type": "code",
   "execution_count": 12,
   "outputs": [
    {
     "name": "stdout",
     "output_type": "stream",
     "text": [
      "7/7 [==============================] - 0s 2ms/step\n",
      "max error: 0.026692873988166874\n",
      "mean absolute error: 0.0003923845539703679\n"
     ]
    },
    {
     "data": {
      "text/plain": "<Figure size 432x288 with 1 Axes>",
      "image/png": "[encoded data removed]"
     },
     "metadata": {
      "needs_background": "light"
     },
     "output_type": "display_data"
    }
   ],
   "source": [
    "h_cnn = history_cnn.history\n",
    "\n",
    "cnn_training_data = pd.DataFrame({\"CNN training loss\" : h_cnn[\"loss\"], \"CNN test_loss\" :  h_cnn[\"val_loss\"]})\n",
    "cnn_training_data.index.name = 'CNN Epoch'\n",
    "\n",
    "fig_cnn = cnn_training_data.plot()\n",
    "fig_cnn.set_xlabel(r'epoch_count',fontsize=12)\n",
    "fig_cnn.set_ylabel(r'Loss',fontsize=12)\n",
    "fig_cnn.set_ylim(0, 0.02)\n",
    "\n",
    "y = model_cnn.predict(X_test_cnn)\n",
    "print('max error:', np.max(np.abs(y-Y_test)))\n",
    "print('mean absolute error:', np.mean( np.sqrt((y-Y_test)**2 )))"
   ],
   "metadata": {
    "collapsed": false,
    "pycharm": {
     "name": "#%%\n"
    }
   }
  }
 ],
 "metadata": {
  "kernelspec": {
   "display_name": "Python 3",
   "language": "python",
   "name": "python3"
  },
  "language_info": {
   "codemirror_mode": {
    "name": "ipython",
    "version": 2
   },
   "file_extension": ".py",
   "mimetype": "text/x-python",
   "name": "python",
   "nbconvert_exporter": "python",
   "pygments_lexer": "ipython2",
   "version": "2.7.6"
  }
 },
 "nbformat": 4,
 "nbformat_minor": 0
}