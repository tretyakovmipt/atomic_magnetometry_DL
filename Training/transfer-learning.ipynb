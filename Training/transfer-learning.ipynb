{
 "cells": [
  {
   "cell_type": "markdown",
   "source": [
    "Here we use a model pretrained on the vanilla dataset and fine-tune it on a cavity dataset with and without noise, and compare its performance with a model trained on these datasets from scratch."
   ],
   "metadata": {
    "collapsed": false,
    "pycharm": {
     "name": "#%% md\n"
    }
   }
  },
  {
   "cell_type": "markdown",
   "source": [
    "Import external libraries"
   ],
   "metadata": {
    "collapsed": false,
    "pycharm": {
     "name": "#%% md\n"
    }
   }
  },
  {
   "cell_type": "code",
   "execution_count": 1,
   "metadata": {
    "collapsed": true,
    "pycharm": {
     "name": "#%%\n"
    }
   },
   "outputs": [],
   "source": [
    "from tensorflow import keras\n",
    "import numpy as np\n",
    "import matplotlib.pyplot as plt\n",
    "import pandas as pd"
   ]
  },
  {
   "cell_type": "markdown",
   "source": [
    "Load cavity datasets"
   ],
   "metadata": {
    "collapsed": false,
    "pycharm": {
     "name": "#%% md\n"
    }
   }
  },
  {
   "cell_type": "code",
   "execution_count": 2,
   "outputs": [],
   "source": [
    "X_train = np.load('..\\data\\X_train_c.npy')  # population in F=1\n",
    "Y_train = np.load('..\\data\\Y_train_c.npy')  #normalized to w_L\n",
    "\n",
    "X_val = np.load('..\\data\\X_val_C.npy')  # use validation set for testing\n",
    "Y_val = np.load('..\\data\\Y_val_C.npy')  # use validation set for testing"
   ],
   "metadata": {
    "collapsed": false,
    "pycharm": {
     "name": "#%%\n"
    }
   }
  },
  {
   "cell_type": "markdown",
   "source": [
    "Normalize X data"
   ],
   "metadata": {
    "collapsed": false,
    "pycharm": {
     "name": "#%% md\n"
    }
   }
  },
  {
   "cell_type": "code",
   "execution_count": 3,
   "outputs": [],
   "source": [
    "Level = np.min(X_train)\n",
    "Height = np.max(X_train) - np.min(X_train)\n",
    "\n",
    "X_train = (X_train - Level) / Height\n",
    "X_val = (X_val - Level) / Height"
   ],
   "metadata": {
    "collapsed": false,
    "pycharm": {
     "name": "#%%\n"
    }
   }
  },
  {
   "cell_type": "markdown",
   "source": [
    "Add noise to the input data"
   ],
   "metadata": {
    "collapsed": false,
    "pycharm": {
     "name": "#%% md\n"
    }
   }
  },
  {
   "cell_type": "code",
   "execution_count": 4,
   "outputs": [],
   "source": [
    "noise_level = 0.002\n",
    "\n",
    "X_train_N = X_train + np.random.normal(0, noise_level, X_train.shape)\n",
    "X_val_N = X_val + np.random.normal(0, noise_level, X_val.shape)"
   ],
   "metadata": {
    "collapsed": false,
    "pycharm": {
     "name": "#%%\n"
    }
   }
  },
  {
   "cell_type": "code",
   "execution_count": 5,
   "outputs": [
    {
     "data": {
      "text/plain": "<matplotlib.legend.Legend at 0x13db7557730>"
     },
     "execution_count": 5,
     "metadata": {},
     "output_type": "execute_result"
    },
    {
     "data": {
      "text/plain": "<Figure size 432x288 with 1 Axes>",
      "image/png": "[encoded data removed]"
     },
     "metadata": {
      "needs_background": "light"
     },
     "output_type": "display_data"
    }
   ],
   "source": [
    "fig, ax = plt.subplots()\n",
    "ax.plot(np.linspace(-4,4,320), X_train_N[50], label = 'noisy')\n",
    "ax.plot(np.linspace(-4,4,320), X_train[50], ls='--', label = 'original')\n",
    "ax.set_xlabel(r'$\\Delta_{\\mu}/\\omega_{L}$', fontsize=12)\n",
    "ax.set_ylabel('DR signal', fontsize=12)\n",
    "ax.legend(loc=0)"
   ],
   "metadata": {
    "collapsed": false,
    "pycharm": {
     "name": "#%%\n"
    }
   }
  },
  {
   "cell_type": "markdown",
   "source": [
    "Shuffle data sets"
   ],
   "metadata": {
    "collapsed": false,
    "pycharm": {
     "name": "#%% md\n"
    }
   }
  },
  {
   "cell_type": "code",
   "execution_count": 6,
   "outputs": [],
   "source": [
    "m_train = np.random.permutation(len(X_train)) # Shuffling mask for X_train\n",
    "m_test = np.random.permutation(len(X_val)) # Shuffling mask for X_test\n",
    "\n",
    "X_train_N, Y_train = X_train_N[m_train], Y_train[m_train]\n",
    "X_val_N, Y_val = X_val_N[m_test], Y_val[m_test]"
   ],
   "metadata": {
    "collapsed": false,
    "pycharm": {
     "name": "#%%\n"
    }
   }
  },
  {
   "cell_type": "markdown",
   "source": [
    "Reshape X for CNN"
   ],
   "metadata": {
    "collapsed": false,
    "pycharm": {
     "name": "#%% md\n"
    }
   }
  },
  {
   "cell_type": "code",
   "execution_count": 7,
   "outputs": [],
   "source": [
    "X_train_N = X_train_N[:, :, np.newaxis]\n",
    "X_val_N = X_val_N[:, :, np.newaxis]"
   ],
   "metadata": {
    "collapsed": false,
    "pycharm": {
     "name": "#%%\n"
    }
   }
  },
  {
   "cell_type": "markdown",
   "source": [
    "Introduce training callbacks"
   ],
   "metadata": {
    "collapsed": false,
    "pycharm": {
     "name": "#%% md\n"
    }
   }
  },
  {
   "cell_type": "code",
   "execution_count": 8,
   "outputs": [],
   "source": [
    "early_stopping_cb = keras.callbacks.EarlyStopping(patience=500, monitor='val_loss', restore_best_weights=True) # Stop if the validation loss is not improving\n",
    "learning_rate_cb = keras.callbacks.ReduceLROnPlateau(monitor='val_loss', factor=0.1, patience=100) # Decrease the learning rate if the validation loss is not improving\n",
    "cb_list = [early_stopping_cb, learning_rate_cb]"
   ],
   "metadata": {
    "collapsed": false,
    "pycharm": {
     "name": "#%%\n"
    }
   }
  },
  {
   "cell_type": "markdown",
   "source": [
    "## Learning from scratch"
   ],
   "metadata": {
    "collapsed": false,
    "pycharm": {
     "name": "#%% md\n"
    }
   }
  },
  {
   "cell_type": "code",
   "execution_count": 9,
   "outputs": [],
   "source": [
    "model_new = keras.models.Sequential([\n",
    "    keras.layers.Conv1D(kernel_size=16, activation='relu', padding='SAME', filters=32),\n",
    "    keras.layers.MaxPooling1D(pool_size=2),\n",
    "    keras.layers.Conv1D(kernel_size=8, activation='relu', padding='SAME', filters=64),\n",
    "    keras.layers.Conv1D(kernel_size=8, activation='relu', padding='SAME', filters=64),\n",
    "    keras.layers.MaxPooling1D(pool_size=2),\n",
    "    keras.layers.Conv1D(kernel_size=4, activation='relu', padding='SAME', filters=128),\n",
    "    keras.layers.Conv1D(kernel_size=4, activation='relu', padding='SAME', filters=128),\n",
    "    keras.layers.Flatten(),\n",
    "    keras.layers.Dense(256, activation='relu'),\n",
    "    keras.layers.Dense(128, activation='relu'),\n",
    "    keras.layers.Dense(64, activation='relu'),\n",
    "    keras.layers.Dense(32, activation='relu'),\n",
    "    keras.layers.Dense(2)\n",
    "])\n",
    "\n",
    "model_new.compile(loss=\"mae\", optimizer=keras.optimizers.Adam(), metrics=[\"mae\"])"
   ],
   "metadata": {
    "collapsed": false,
    "pycharm": {
     "name": "#%%\n"
    }
   }
  },
  {
   "cell_type": "code",
   "execution_count": 10,
   "outputs": [],
   "source": [
    "history_new = model_new.fit(X_train_N, Y_train, epochs=2000, validation_data=(X_val_N, Y_val), batch_size=32, callbacks=cb_list, verbose=False)"
   ],
   "metadata": {
    "collapsed": false,
    "pycharm": {
     "name": "#%%\n"
    }
   }
  },
  {
   "cell_type": "code",
   "execution_count": 11,
   "outputs": [
    {
     "name": "stdout",
     "output_type": "stream",
     "text": [
      "8/8 [==============================] - 0s 2ms/step\n",
      "max error: 0.07602342963218689\n",
      "mean absolute error: 0.0034796551167288357\n"
     ]
    },
    {
     "data": {
      "text/plain": "<Figure size 432x288 with 1 Axes>",
      "image/png": "[encoded data removed]"
     },
     "metadata": {
      "needs_background": "light"
     },
     "output_type": "display_data"
    }
   ],
   "source": [
    "h_new = history_new.history\n",
    "\n",
    "new_training_data = pd.DataFrame({\"CNN training loss\": h_new[\"loss\"], \"CNN test_loss\": h_new[\"val_loss\"]})\n",
    "new_training_data.index.name = 'CNN Epoch'\n",
    "\n",
    "fig_new = new_training_data.plot()\n",
    "fig_new.set_xlabel(r'epoch_count', fontsize=12)\n",
    "fig_new.set_ylabel(r'Loss', fontsize=12)\n",
    "fig_new.set_ylim(0, 0.01)\n",
    "\n",
    "# Calculate error\n",
    "y = model_new.predict(X_val_N)\n",
    "print('max error:', np.max(np.abs(y - Y_val)))\n",
    "print('mean absolute error:', np.mean(np.sqrt((y - Y_val) ** 2)))"
   ],
   "metadata": {
    "collapsed": false,
    "pycharm": {
     "name": "#%%\n"
    }
   }
  },
  {
   "cell_type": "markdown",
   "source": [
    "## Fine tuning"
   ],
   "metadata": {
    "collapsed": false,
    "pycharm": {
     "name": "#%% md\n"
    }
   }
  },
  {
   "cell_type": "markdown",
   "source": [
    "Load and train"
   ],
   "metadata": {
    "collapsed": false,
    "pycharm": {
     "name": "#%% md\n"
    }
   }
  },
  {
   "cell_type": "code",
   "execution_count": 12,
   "outputs": [],
   "source": [
    "pretrained_model = keras.models.load_model('model_pretrained.h5')\n",
    "pretrained_model.compile(loss='mae', optimizer=keras.optimizers.Adam(),\n",
    "                         metrics=['mae'])  #loss functions are given for two output neurons"
   ],
   "metadata": {
    "collapsed": false,
    "pycharm": {
     "name": "#%%\n"
    }
   }
  },
  {
   "cell_type": "markdown",
   "source": [
    "Train"
   ],
   "metadata": {
    "collapsed": false,
    "pycharm": {
     "name": "#%% md\n"
    }
   }
  },
  {
   "cell_type": "code",
   "execution_count": 13,
   "outputs": [],
   "source": [
    "pretrained_model.compile(loss='mae', optimizer=keras.optimizers.Adam(), metrics=['mae'])\n",
    "history_finetuned = pretrained_model.fit(X_train_N, Y_train, epochs=2000, validation_data=(X_val_N, Y_val), batch_size=32, callbacks=cb_list, verbose=False)"
   ],
   "metadata": {
    "collapsed": false,
    "pycharm": {
     "name": "#%%\n"
    }
   }
  },
  {
   "cell_type": "markdown",
   "source": [
    "Training results"
   ],
   "metadata": {
    "collapsed": false,
    "pycharm": {
     "name": "#%% md\n"
    }
   }
  },
  {
   "cell_type": "code",
   "execution_count": 14,
   "outputs": [
    {
     "name": "stdout",
     "output_type": "stream",
     "text": [
      "8/8 [==============================] - 0s 3ms/step\n",
      "max error: 0.0639510229229927\n",
      "mean absolute error: 0.0031704907514904083\n"
     ]
    },
    {
     "data": {
      "text/plain": "<Figure size 432x288 with 1 Axes>",
      "image/png": "[encoded data removed]"
     },
     "metadata": {
      "needs_background": "light"
     },
     "output_type": "display_data"
    }
   ],
   "source": [
    "h_finetuned = history_finetuned.history\n",
    "training_data_finetuned_cavity = pd.DataFrame(\n",
    "    {\"Transfer training loss\": h_finetuned[\"loss\"], \"Transfer test_loss\": h_finetuned[\"val_loss\"]})\n",
    "training_data_finetuned_cavity.index.name = 'Transfer Epoch'\n",
    "\n",
    "fig_finetuned = training_data_finetuned_cavity.plot()\n",
    "fig_finetuned.set_xlabel(r'epoch_count', fontsize=12)\n",
    "fig_finetuned.set_ylabel(r'Loss', fontsize=12)\n",
    "fig_finetuned.set_ylim(0, 0.01)\n",
    "\n",
    "# Calculate error\n",
    "y = pretrained_model.predict(X_val_N)\n",
    "print('max error:', np.max(np.abs(y - Y_val)))\n",
    "print('mean absolute error:', np.mean(np.sqrt((y - Y_val) ** 2)))"
   ],
   "metadata": {
    "collapsed": false,
    "pycharm": {
     "name": "#%%\n"
    }
   }
  },
  {
   "cell_type": "markdown",
   "source": [
    "# Conclusions"
   ],
   "metadata": {
    "collapsed": false,
    "pycharm": {
     "name": "#%% md\n"
    }
   }
  },
  {
   "cell_type": "markdown",
   "source": [
    "Even though it starts at lower loss, pretrained network does not perform significantly better in terms of the final result. Both models overfit. Needs further investigation."
   ],
   "metadata": {
    "collapsed": false,
    "pycharm": {
     "name": "#%% md\n"
    }
   }
  }
 ],
 "metadata": {
  "kernelspec": {
   "display_name": "Python 3",
   "language": "python",
   "name": "python3"
  },
  "language_info": {
   "codemirror_mode": {
    "name": "ipython",
    "version": 2
   },
   "file_extension": ".py",
   "mimetype": "text/x-python",
   "name": "python",
   "nbconvert_exporter": "python",
   "pygments_lexer": "ipython2",
   "version": "2.7.6"
  }
 },
 "nbformat": 4,
 "nbformat_minor": 0
}