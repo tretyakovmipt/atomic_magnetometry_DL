{
 "cells": [
  {
   "cell_type": "code",
   "execution_count": 5,
   "metadata": {
    "collapsed": true,
    "pycharm": {
     "name": "#%%\n"
    }
   },
   "outputs": [
    {
     "ename": "AttributeError",
     "evalue": "partially initialized module 'qutip' has no attribute 'settings' (most likely due to a circular import)",
     "output_type": "error",
     "traceback": [
      "\u001B[1;31m---------------------------------------------------------------------------\u001B[0m",
      "\u001B[1;31mAttributeError\u001B[0m                            Traceback (most recent call last)",
      "Input \u001B[1;32mIn [5]\u001B[0m, in \u001B[0;36m<cell line: 3>\u001B[1;34m()\u001B[0m\n\u001B[0;32m      1\u001B[0m \u001B[38;5;28;01mimport\u001B[39;00m \u001B[38;5;21;01mnumpy\u001B[39;00m \u001B[38;5;28;01mas\u001B[39;00m \u001B[38;5;21;01mnp\u001B[39;00m\n\u001B[0;32m      2\u001B[0m \u001B[38;5;28;01mimport\u001B[39;00m \u001B[38;5;21;01mmatplotlib\u001B[39;00m\u001B[38;5;21;01m.\u001B[39;00m\u001B[38;5;21;01mpyplot\u001B[39;00m \u001B[38;5;28;01mas\u001B[39;00m \u001B[38;5;21;01mplt\u001B[39;00m\n\u001B[1;32m----> 3\u001B[0m \u001B[38;5;28;01mfrom\u001B[39;00m \u001B[38;5;21;01mqutip\u001B[39;00m \u001B[38;5;28;01mimport\u001B[39;00m \u001B[38;5;241m*\u001B[39m\n",
      "File \u001B[1;32m~\\anaconda3\\envs\\qutip\\lib\\site-packages\\qutip\\__init__.py:12\u001B[0m, in \u001B[0;36m<module>\u001B[1;34m\u001B[0m\n\u001B[0;32m     10\u001B[0m \u001B[38;5;28;01mtry\u001B[39;00m:\n\u001B[0;32m     11\u001B[0m     __IPYTHON__\n\u001B[1;32m---> 12\u001B[0m     \u001B[43mqutip\u001B[49m\u001B[38;5;241;43m.\u001B[39;49m\u001B[43msettings\u001B[49m\u001B[38;5;241m.\u001B[39mipython \u001B[38;5;241m=\u001B[39m \u001B[38;5;28;01mTrue\u001B[39;00m\n\u001B[0;32m     13\u001B[0m \u001B[38;5;28;01mexcept\u001B[39;00m \u001B[38;5;167;01mNameError\u001B[39;00m:\n\u001B[0;32m     14\u001B[0m     qutip\u001B[38;5;241m.\u001B[39msettings\u001B[38;5;241m.\u001B[39mipython \u001B[38;5;241m=\u001B[39m \u001B[38;5;28;01mFalse\u001B[39;00m\n",
      "\u001B[1;31mAttributeError\u001B[0m: partially initialized module 'qutip' has no attribute 'settings' (most likely due to a circular import)"
     ]
    }
   ],
   "source": [
    "import numpy as np\n",
    "import matplotlib.pyplot as plt\n",
    "from qutip import *"
   ]
  },
  {
   "cell_type": "code",
   "execution_count": 4,
   "outputs": [],
   "source": [
    "'''Initiate parameters'''\n",
    "gOP = 1 * 2 * np.pi #Optical pumping rate\n",
    "W = 0.01 * gOP # Coupling strength in terms of the Rabi frequency\n",
    "w_L = 1 * gOP * 2e2 # Larmor frequency\n",
    "gL = 2 * w_L # Cavity line width\n",
    "gT = 1.0 * gOP # Thermal relaxation rate\n",
    "delta = np.linspace(-4 * w_L, 4 * w_L, 320)  # Microwave detuning"
   ],
   "metadata": {
    "collapsed": false,
    "pycharm": {
     "name": "#%%\n"
    }
   }
  },
  {
   "cell_type": "code",
   "execution_count": null,
   "outputs": [],
   "source": [
    "states = []  # list with the basis states\n",
    "for i in np.arange(8):\n",
    "    states.append(basis(8, i))\n",
    "\n",
    "psi1_1 = states[0]  #(1,-1) ground state\n",
    "psi10 = states[1]  #(1,0) ground state\n",
    "psi11 = states[2]  #(1,+1)ground state\n",
    "psi2_2 = states[3]  #(2,-2)ground state\n",
    "psi2_1 = states[4]  #(2,-1)ground state\n",
    "psi20 = states[5]  #(2,0)ground state\n",
    "psi21 = states[6]  #(2,+1)ground state\n",
    "psi22 = states[7]  #(2,+2)ground state\n",
    "\n",
    "'''projectors onto the basis states'''\n",
    "P = []\n",
    "for psi in states:\n",
    "    P.append(ket2dm(psi))\n",
    "\n",
    "c_ops = []  #list with collapse operators\n",
    "\n",
    "'''Optical pumping relaxation'''\n",
    "for psi1 in states[0:3]:\n",
    "    for psi2 in states[3:]:\n",
    "        c_ops.append(np.sqrt(gOP) * psi1 * psi2.dag())\n",
    "\n",
    "'''Thernmal relaxation between the Zeeman states'''\n",
    "for i in np.arange(8):\n",
    "    for j in np.arange(8):\n",
    "        if i != j:\n",
    "            c_ops.append(np.sqrt(gT) * states[i] * states[j].dag())\n"
   ],
   "metadata": {
    "collapsed": false,
    "pycharm": {
     "name": "#%%\n"
    }
   }
  },
  {
   "cell_type": "code",
   "execution_count": null,
   "outputs": [],
   "source": [
    "'''Interaction Hamiltonian'''\n",
    "\n",
    "S_o = W * np.array([0.5 * np.sqrt(3), 0.25 * np.sqrt(2), 0.25 * np.sqrt(6), 0.25 * np.sqrt(6), 0.25 * np.sqrt(2),\n",
    "                    0.5 * np.sqrt(3)])  # Rabi frequencies for orthogonal transition\n",
    "S_l = W * np.array([0.5 * np.sqrt(3), 1, 0.5 * np.sqrt(3)])  # Rabi frequencies for longitudinal transition\n",
    "\n",
    "\n",
    "#add cavity line-width\n",
    "def L(f, g):\n",
    "    if g == 0:\n",
    "        return 1\n",
    "    return g ** 2 / (g ** 2 + f ** 2)\n",
    "\n",
    "\n",
    "def Sl(W_par, W_ort):\n",
    "    wL = np.sqrt(W_par ** 2 + W_ort ** 2)\n",
    "    if wL == 0:\n",
    "        return S_l * np.sqrt(L(np.array([-2, 0.0, 2]) * wL, gL))\n",
    "    return S_l * W_par / wL * np.sqrt(L(np.array([-2, 0.0, 2]) * wL, gL))\n",
    "\n",
    "\n",
    "def So(W_par, W_ort):\n",
    "    wL = np.sqrt(W_par ** 2 + W_ort ** 2)\n",
    "    if wL == 0:\n",
    "        return 0 * S_o * np.sqrt(L(np.array([-3, -1, -1, 1, 1, 3]) * wL, gL))\n",
    "    return S_o * W_ort / wL * np.sqrt(L(np.array([-3, -1, -1, 1, 1, 3]) * wL, gL))\n",
    "\n",
    "\n",
    "\"interaction part of the Hamiltonian as a function of Larmor frequency\"\n",
    "\n",
    "\n",
    "def V(W_par, W_ort):\n",
    "    V_l = 0 * qeye(len(states))\n",
    "    V_o = 0 * qeye(len(states))\n",
    "\n",
    "    for i in range(3):\n",
    "        V_l += 0.5 * Sl(W_par, W_ort)[i] * (states[i] * states[i + 4].dag()) + 0.5 * Sl(W_par, W_ort)[i] * (\n",
    "                    states[i] * states[i + 4].dag()).dag()  #pi transition\n",
    "        V_o += 0.5 * So(W_par, W_ort)[2 * i] * (states[i] * states[i + 3].dag()) + 0.5 * So(W_par, W_ort)[2 * i] * (\n",
    "                    states[i] * states[i + 3].dag()).dag()  #sigma-\n",
    "        V_o += 0.5 * So(W_par, W_ort)[2 * i + 1] * (states[i] * states[i + 5].dag()) + 0.5 * So(W_par, W_ort)[\n",
    "            2 * i + 1] * (states[i] * states[i + 5].dag()).dag()  #sigma+\n",
    "    return V_o + V_l\n",
    "\n",
    "\n",
    "'''Diagonal part of the Hamiltonian as a function of detuning d form the clock transition and the Larmor frequency'''\n",
    "\n",
    "\n",
    "def H_d(d, wL):\n",
    "    H = 0 * qeye(len(states))\n",
    "    H += (wL + 0.5 * d) * P[0]\n",
    "    H += 0.5 * d * P[1]\n",
    "    H += (-wL + 0.5 * d) * P[2]\n",
    "    H += -(0.5 * d + 2 * wL) * P[3]\n",
    "    H += -(0.5 * d + wL) * P[4]\n",
    "    H += -0.5 * d * P[5]\n",
    "    H += -(0.5 * d - wL) * P[6]\n",
    "    H += -(0.5 * d - 2 * wL) * P[7]\n",
    "    return H\n",
    "\n",
    "\n",
    "'''Total Hamiltonian'''\n",
    "\n",
    "\n",
    "def H(d, W_par, W_ort):\n",
    "    wL = np.sqrt(W_par ** 2 + W_ort ** 2)\n",
    "    H = H_d(d, wL) + V(W_par, W_ort)\n",
    "    return H\n"
   ],
   "metadata": {
    "collapsed": false,
    "pycharm": {
     "name": "#%%\n"
    }
   }
  },
  {
   "cell_type": "code",
   "execution_count": null,
   "outputs": [],
   "source": [
    "\n",
    "#function that generates datasets with inputs and corresponding targets\n",
    "def generate_dataset(N1, N2):\n",
    "    #N1 - number of scan values\n",
    "    #N2 - number of random values\n",
    "    R = np.random.rand(N2)\n",
    "    W_par = np.concatenate((np.zeros(N1), np.linspace(0, 1, N1), R))\n",
    "    W_ort = np.concatenate((np.linspace(0, 1, N1), np.zeros(N1), np.sqrt(1 - R ** 2)))\n",
    "    targets = np.stack((W_par, W_ort), axis=1)  # array with target (label) values of the magnetic field\n",
    "    Population = []\n",
    "    for i in range(len(W_par)):\n",
    "        ss_1 = []  #\n",
    "        ss0 = []\n",
    "        ss1 = []\n",
    "        for d in delta:\n",
    "            ss = steadystate(H(d, W_par[i] * w_L, W_ort[i] * w_L), c_ops, method='power', drop_tol=1e-10)  #steady state\n",
    "            ss_1.append(expect(P[0], ss))  #steady-state populations of psi1\n",
    "            ss0.append(expect(P[1], ss))  #steady-state populations of psi2\n",
    "            ss1.append(expect(P[2], ss))  #steady-state populations of psi3\n",
    "        ##convert to arrays\n",
    "        ss_1 = np.array(ss_1)\n",
    "        ss0 = np.array(ss0)\n",
    "        ss1 = np.array(ss1)\n",
    "        rho = ss_1 + ss0 + ss1  # Total population of in F=1\n",
    "        Population.append(rho)  # add total population to list\n",
    "        inputs = np.array(Population)\n",
    "        print(i)\n",
    "\n",
    "    return inputs, targets\n",
    "\n",
    "\n",
    "N1 = 60\n",
    "N2 = 120\n",
    "\n",
    "X_train1, Y_train1 = generate_dataset(N1, N2)\n",
    "\n",
    "np.save(\"X_train_C.npy\", X_train1)\n",
    "np.save(\"Y_train_C.npy\", Y_train1)\n",
    "\n",
    "'''plot results'''"
   ],
   "metadata": {
    "collapsed": false,
    "pycharm": {
     "name": "#%%\n"
    }
   }
  },
  {
   "cell_type": "code",
   "execution_count": null,
   "outputs": [],
   "source": [
    "\n",
    "'''Population in F=1 substates'''\n",
    "fig, ax = plt.subplots()\n",
    "ax.plot(delta / w_L, X_train1[2])\n",
    "ax.set_xlabel(r'$\\Delta_{\\mu}/\\omega_{L}$', fontsize=12)\n",
    "ax.set_ylabel('Signal', fontsize=12)\n",
    "ax.legend(loc=0)"
   ],
   "metadata": {
    "collapsed": false,
    "pycharm": {
     "name": "#%%\n"
    }
   }
  },
  {
   "cell_type": "code",
   "execution_count": null,
   "outputs": [],
   "source": [
    "\n",
    "\"\"\"Validation set\"\"\"\n",
    "\n",
    "N1 = 60  # number of scan values points\n",
    "N2 = 120  #number of ransom values\n",
    "\n",
    "R = np.random.rand(N2)\n",
    "\n",
    "W_par = np.concatenate((np.zeros(N1), np.linspace(0, 1, N1), R))\n",
    "W_ort = np.concatenate((np.linspace(0, 1, N1), np.zeros(N1), np.sqrt(1 - R ** 2)))\n",
    "\n",
    "targets = np.stack((W_par, W_ort), axis=1)\n",
    "\n",
    "Population = []\n",
    "for i in range(len(W_par)):\n",
    "    #for w in wL:\n",
    "    ss_1 = []  #\n",
    "    ss0 = []\n",
    "    ss1 = []\n",
    "    for d in delta:\n",
    "        ss = steadystate(H(d, W_par[i] * w_L, W_ort[i] * w_L), c_ops, method='power', drop_tol=1e-10)  #steady state\n",
    "        ss_1.append(expect(P[0], ss))  #steady-state populations of psi1\n",
    "        ss0.append(expect(P[1], ss))  #steady-state populations of psi2\n",
    "        ss1.append(expect(P[2], ss))  #steady-state populations of psi3\n",
    "    ##convert to arrays\n",
    "    ss_1 = np.array(ss_1)\n",
    "    ss0 = np.array(ss0)\n",
    "    ss1 = np.array(ss1)\n",
    "    rho = ss_1 + ss0 + ss1\n",
    "    Population.append(rho)  # total population in F=1\n",
    "    print(i)\n",
    "\n",
    "training_set = np.array(Population)\n",
    "\n",
    "np.save(\"X_val_C.npy\", training_set)\n",
    "np.save(\"Y_val_C.npy\", targets)"
   ],
   "metadata": {
    "collapsed": false,
    "pycharm": {
     "name": "#%%\n"
    }
   }
  },
  {
   "cell_type": "code",
   "execution_count": null,
   "outputs": [],
   "source": [
    "\n",
    "\"\"\"Testing set\"\"\"\n",
    "\n",
    "\"\"\"Generate testing set\"\"\"\n",
    "N1 = 5  # number of scan values\n",
    "N2 = 10  #number of random values points\n",
    "\n",
    "R = np.random.rand(N2)\n",
    "\n",
    "W_par = np.concatenate((np.zeros(N1), np.linspace(0, 1, N1), R))\n",
    "W_ort = np.concatenate((np.linspace(0, 1, N1), np.zeros(N1), np.sqrt(1 - R ** 2)))\n",
    "\n",
    "targets = np.stack((W_par, W_ort), axis=1)\n",
    "np.save(\"Y_test_C.npy\", targets)\n",
    "\n",
    "Population = []\n",
    "for i in range(len(W_par)):\n",
    "    #for w in wL:\n",
    "    ss_1 = []  #\n",
    "    ss0 = []\n",
    "    ss1 = []\n",
    "    for d in delta:\n",
    "        ss = steadystate(H(d, W_par[i] * w_L, W_ort[i] * w_L), c_ops, method='power', drop_tol=1e-10)  #steady state\n",
    "        ss_1.append(expect(P[0], ss))  #steady-state populations of psi1\n",
    "        ss0.append(expect(P[1], ss))  #steady-state populations of psi2\n",
    "        ss1.append(expect(P[2], ss))  #steady-state populations of psi3\n",
    "    ##convert to arrays\n",
    "    ss_1 = np.array(ss_1)\n",
    "    ss0 = np.array(ss0)\n",
    "    ss1 = np.array(ss1)\n",
    "    rho = ss_1 + ss0 + ss1\n",
    "    Population.append(rho)  # total population in F=1\n",
    "    print(i)\n",
    "\n",
    "test_set = np.array(Population)\n",
    "np.save(\"X_test_C.npy\", test_set)"
   ],
   "metadata": {
    "collapsed": false,
    "pycharm": {
     "name": "#%%\n"
    }
   }
  }
 ],
 "metadata": {
  "kernelspec": {
   "display_name": "Python 3",
   "language": "python",
   "name": "python3"
  },
  "language_info": {
   "codemirror_mode": {
    "name": "ipython",
    "version": 2
   },
   "file_extension": ".py",
   "mimetype": "text/x-python",
   "name": "python",
   "nbconvert_exporter": "python",
   "pygments_lexer": "ipython2",
   "version": "2.7.6"
  }
 },
 "nbformat": 4,
 "nbformat_minor": 0
}