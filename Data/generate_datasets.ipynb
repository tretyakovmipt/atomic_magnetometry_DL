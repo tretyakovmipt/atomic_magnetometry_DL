{
 "cells": [
  {
   "cell_type": "code",
   "execution_count": 1,
   "metadata": {
    "collapsed": true
   },
   "outputs": [],
   "source": [
    "import numpy as np\n",
    "import matplotlib.pyplot as plt\n",
    "from qutip import *"
   ]
  },
  {
   "cell_type": "markdown",
   "source": [
    "Parameters"
   ],
   "metadata": {
    "collapsed": false
   }
  },
  {
   "cell_type": "code",
   "execution_count": 2,
   "outputs": [],
   "source": [
    "gOP = 1 * 2 * np.pi #Optical pumping rate\n",
    "W = 0.01 * gOP # Coupling strength in terms of the Rabi frequency\n",
    "w_L = 1 * gOP * 2e2 # Larmor frequency\n",
    "gL = 2 * w_L # Cavity line width\n",
    "gT = 1.0 * gOP # Thermal relaxation rate\n",
    "delta = np.linspace(-4 * w_L, 4 * w_L, 320)  # Microwave detuning"
   ],
   "metadata": {
    "collapsed": false
   }
  },
  {
   "cell_type": "markdown",
   "source": [
    "# Initialize states and operators"
   ],
   "metadata": {
    "collapsed": false
   }
  },
  {
   "cell_type": "markdown",
   "source": [
    "Basis"
   ],
   "metadata": {
    "collapsed": false
   }
  },
  {
   "cell_type": "code",
   "execution_count": 3,
   "outputs": [],
   "source": [
    "states = []  # List with the basis states\n",
    "for i in np.arange(8):\n",
    "    states.append(basis(8, i))\n",
    "\n",
    "psi1_1 = states[0] #(1,-1) ground state\n",
    "psi10 = states[1] #(1,0) ground state\n",
    "psi11 = states[2] #(1,+1) ground state\n",
    "psi2_2 = states[3] #(2,-2) ground state\n",
    "psi2_1 = states[4] #(2,-1) ground state\n",
    "psi20 = states[5] #(2,0) ground state\n",
    "psi21 = states[6] #(2,+1) ground state\n",
    "psi22 = states[7] #(2,+2) ground state"
   ],
   "metadata": {
    "collapsed": false
   }
  },
  {
   "cell_type": "markdown",
   "source": [
    "Projectors onto the basis states"
   ],
   "metadata": {
    "collapsed": false
   }
  },
  {
   "cell_type": "code",
   "execution_count": 4,
   "outputs": [],
   "source": [
    "P = []\n",
    "for psi in states:\n",
    "    P.append(ket2dm(psi))\n",
    "\n",
    "c_ops = []  # List with collapse operators"
   ],
   "metadata": {
    "collapsed": false
   }
  },
  {
   "cell_type": "markdown",
   "source": [
    "Optical pumping relaxation"
   ],
   "metadata": {
    "collapsed": false
   }
  },
  {
   "cell_type": "code",
   "execution_count": 5,
   "outputs": [],
   "source": [
    "for psi1 in states[0:3]:\n",
    "    for psi2 in states[3:]:\n",
    "        c_ops.append(np.sqrt(gOP) * psi1 * psi2.dag())"
   ],
   "metadata": {
    "collapsed": false
   }
  },
  {
   "cell_type": "markdown",
   "source": [
    "Thermal relaxation between the Zeeman states"
   ],
   "metadata": {
    "collapsed": false
   }
  },
  {
   "cell_type": "code",
   "execution_count": 6,
   "outputs": [],
   "source": [
    "for i in np.arange(8):\n",
    "    for j in np.arange(8):\n",
    "        if i != j:\n",
    "            c_ops.append(np.sqrt(gT) * states[i] * states[j].dag())"
   ],
   "metadata": {
    "collapsed": false
   }
  },
  {
   "cell_type": "markdown",
   "source": [
    "# Hamiltonian"
   ],
   "metadata": {
    "collapsed": false
   }
  },
  {
   "cell_type": "markdown",
   "source": [
    "## Interaction Hamiltonian"
   ],
   "metadata": {
    "collapsed": false
   }
  },
  {
   "cell_type": "code",
   "execution_count": 7,
   "outputs": [],
   "source": [
    "def L(f, g):\n",
    "    \"\"\"Cavity line-width\"\"\"\n",
    "    if g == 0:\n",
    "        return 1 # For simplicity, I set this condition fot the case when there is no cavity\n",
    "    return g**2/(g**2+f**2)\n",
    "\n",
    "def So(W_ort, wL):\n",
    "    \"\"\"Coupling strength for sigma transitions with cavity\"\"\"\n",
    "    transition_strength = np.array([0.5*np.sqrt(3),  0.25*np.sqrt(2), 0.25*np.sqrt(6), 0.25*np.sqrt(6), 0.25*np.sqrt(2),  0.5*np.sqrt(3)])\n",
    "    if wL == 0:\n",
    "        return 0 # To avoid double counting in the degenerate case\n",
    "    return transition_strength * W_ort * np.sqrt(L(np.array([-3,-1,-1,1,1,3])*wL,gL))\n",
    "\n",
    "def Sl(W_par,  wL):\n",
    "    \"\"\"Coupling strength for pi transitions with cavity\"\"\"\n",
    "    transition_strength = np.array([0.5*np.sqrt(3), 1, 0.5*np.sqrt(3)])\n",
    "    return transition_strength * W_par * np.sqrt(L(np.array([-2, 0, 2])*wL,gL))\n",
    "\n",
    "def V(W_ort, W_par, wL):\n",
    "    \"\"\"Interaction part of the Hamiltonian as a function of the Larmor frequency\"\"\"\n",
    "    V_l = 0*qeye(len(states))\n",
    "    V_o = 0*qeye(len(states))\n",
    "\n",
    "    for i in range(3):\n",
    "        V_l += 0.5*Sl(W_par,  wL)[i]*(states[i]*states[i+4].dag())+0.5*Sl(W_par,  wL)[i]*(states[i]*states[i+4].dag()).dag() # Pi transition\n",
    "        V_o += 0.5*So(W_ort, wL)[2*i]*(states[i]*states[i+3].dag())+0.5*So(W_ort, wL)[2*i]*(states[i]*states[i+3].dag()).dag() # Sigma- transitions\n",
    "        V_o += 0.5*So(W_ort, wL)[2*i+1]*(states[i]*states[i+5].dag())+0.5*So(W_ort, wL)[2*i+1]*(states[i]*states[i+5].dag()).dag() # Sigma+ transition\n",
    "    return V_o+V_l"
   ],
   "metadata": {
    "collapsed": false
   }
  },
  {
   "cell_type": "markdown",
   "source": [
    "Diagonal part of the Hamiltonian as a function of detuning d form the clock transition and the Larmor frequency'"
   ],
   "metadata": {
    "collapsed": false
   }
  },
  {
   "cell_type": "code",
   "execution_count": 8,
   "outputs": [],
   "source": [
    "def H_d(d, wL):\n",
    "    \"\"\"Diagonal part of the Hamiltonian as a function of detuning d form the clock transition and the Larmor frequency\"\"\"\n",
    "    H = 0*qeye(len(states))\n",
    "    H += (wL+0.5*d)*P[0]\n",
    "    H += 0.5*d*P[1]\n",
    "    H += (-wL+0.5*d)*P[2]\n",
    "    H += -(0.5*d+2*wL)*P[3]\n",
    "    H += -(0.5*d+wL)*P[4]\n",
    "    H += -0.5*d*P[5]\n",
    "    H += -(0.5*d-wL)*P[6]\n",
    "    H += -(0.5*d-2*wL)*P[7]\n",
    "    return H"
   ],
   "metadata": {
    "collapsed": false
   }
  },
  {
   "cell_type": "markdown",
   "source": [
    "Total Hamiltonian"
   ],
   "metadata": {
    "collapsed": false
   }
  },
  {
   "cell_type": "code",
   "execution_count": 9,
   "outputs": [],
   "source": [
    "def H(d, W_par, W_ort, wL):\n",
    "    return H_d(d, wL) + V(W_ort, W_par, wL)"
   ],
   "metadata": {
    "collapsed": false
   }
  },
  {
   "cell_type": "markdown",
   "source": [
    "# Generate data"
   ],
   "metadata": {
    "collapsed": false
   }
  },
  {
   "cell_type": "markdown",
   "source": [
    "Function that generates datasets with inputs and corresponding targets"
   ],
   "metadata": {
    "collapsed": false
   }
  },
  {
   "cell_type": "code",
   "execution_count": 10,
   "outputs": [],
   "source": [
    "def generate_dataset(N1, N2):\n",
    "    # N1 - number of scan values\n",
    "    # N2 - number of random values\n",
    "    R = np.random.rand(N2)\n",
    "    W_par = np.concatenate((np.zeros(N1), np.linspace(0, 1, N1), R))\n",
    "    W_ort = np.concatenate((np.linspace(0, 1, N1), np.zeros(N1), np.sqrt(1 - R ** 2)))\n",
    "    targets = np.stack((W_par, W_ort), axis=1)  # Array with target (label) values of the magnetic field\n",
    "    Population = []\n",
    "    for i in range(len(W_par)):\n",
    "        ss_1, ss0, ss1 = [], [], []\n",
    "        for d in delta:\n",
    "            ss = steadystate(H(d, W_par[i] * w_L, W_ort[i] * w_L, w_L), c_ops, drop_tol=1e-10) # Steady state\n",
    "            ss_1.append(expect(P[0], ss)) # Steady-state populations of psi1\n",
    "            ss0.append(expect(P[1], ss))  # Steady-state populations of psi2\n",
    "            ss1.append(expect(P[2], ss))  # Steady-state populations of psi3\n",
    "        # Convert to arrays\n",
    "        ss_1 = np.array(ss_1)\n",
    "        ss0 = np.array(ss0)\n",
    "        ss1 = np.array(ss1)\n",
    "        rho = ss_1 + ss0 + ss1  # Total population of in F=1\n",
    "        Population.append(rho)  # Add total population to list\n",
    "        inputs = np.array(Population)\n",
    "\n",
    "    return inputs, targets"
   ],
   "metadata": {
    "collapsed": false
   }
  },
  {
   "cell_type": "markdown",
   "source": [
    "Generate data"
   ],
   "metadata": {
    "collapsed": false
   }
  },
  {
   "cell_type": "code",
   "execution_count": 11,
   "outputs": [],
   "source": [
    "N1 = 3\n",
    "N2 = 3\n",
    "X_train1, Y_train1 = generate_dataset(N1, N2)"
   ],
   "metadata": {
    "collapsed": false
   }
  }
 ],
 "metadata": {
  "kernelspec": {
   "display_name": "Python 3",
   "language": "python",
   "name": "python3"
  },
  "language_info": {
   "codemirror_mode": {
    "name": "ipython",
    "version": 2
   },
   "file_extension": ".py",
   "mimetype": "text/x-python",
   "name": "python",
   "nbconvert_exporter": "python",
   "pygments_lexer": "ipython2",
   "version": "2.7.6"
  }
 },
 "nbformat": 4,
 "nbformat_minor": 0
}
